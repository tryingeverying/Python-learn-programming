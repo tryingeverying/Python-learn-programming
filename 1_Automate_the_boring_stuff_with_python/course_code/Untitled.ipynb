{
' "cells"':' ['
  {
'   "cell_type"':' "markdown",'
'   "metadata"':' {},'
'   "source"':' ['
    "  <strong> hello </strong> world!\n",
    "    "
   ]
  },
  {
'   "cell_type"':' "code",'
'   "execution_count"':' 3,'
'   "metadata"':' {},'
'   "outputs"':' [],'
'   "source"':' ['
    "import bs4"
   ]
  },
  {
'   "cell_type"':' "markdown",'
'   "metadata"':' {},'
'   "source"':' ['
'    "Al's free &lt;a href=\"http':'//inventwithpython.com\">Python books&lt;/a>."'
   ]
  },
  {
'   "cell_type"':' "code",'
'   "execution_count"':' 4,'
'   "metadata"':' {},'
'   "outputs"':' [],'
'   "source"':' ['
'    "example = open(r'F':'\\Programming\\Python\\1_Automate_the_boring_stuff_with_python\\example.html')"'
   ]
  },
  {
'   "cell_type"':' "code",'
'   "execution_count"':' 5,'
'   "metadata"':' {},'
'   "outputs"':' [],'
'   "source"':' ['
    "examplesoup = bs4.BeautifulSoup(example)"
   ]
  },
  {
'   "cell_type"':' "code",'
'   "execution_count"':' 7,'
'   "metadata"':' {},'
'   "outputs"':' ['
    {
'     "name"':' "stdout",'
'     "output_type"':' "stream",'
'     "text"':' ['
      "<!-- This is the example.html file. --><html><head><title>The Website Title</title></head>\n",
      "<body>\n",
'      "<p>Download my <strong>Python</strong> book from <a href=\"http':'//inventwithpython.com\">my website</a>.</p>\n",'
      "<p class=\"slogan\">Learn Python the easy way!</p>\n",
      "<p>By <span id=\"author\">Al Sweigart</span></p>\n",
      "</body></html>\n"
     ]
    }
   ],
'   "source"':' ['
    "print(examplesoup)"
   ]
  },
  {
'   "cell_type"':' "code",'
'   "execution_count"':' 10,'
'   "metadata"':' {},'
'   "outputs"':' ['
    {
'     "name"':' "stdout",'
'     "output_type"':' "stream",'
'     "text"':' ['
      "[<p class=\"slogan\">Learn Python the easy way!</p>]\n"
     ]
    }
   ],
'   "source"':' ['
    "print(examplesoup.select('.slogan'))"
   ]
  },
  {
'   "cell_type"':' "code",'
'   "execution_count"':' 11,'
'   "metadata"':' {},'
'   "outputs"':' ['
    {
'     "name"':' "stdout",'
'     "output_type"':' "stream",'
'     "text"':' ['
      "[<span id=\"author\">Al Sweigart</span>]\n"
     ]
    }
   ],
'   "source"':' ['
    "print(examplesoup.select('#author'))"
   ]
  },
  {
'   "cell_type"':' "code",'
'   "execution_count"':' 16,'
'   "metadata"':' {},'
'   "outputs"':' ['
    {
'     "data"':' {'
'      "text/plain"':' ['
       "'Al Sweigart'"
      ]
     },
'     "execution_count"':' 16,'
'     "metadata"':' {},'
'     "output_type"':' "execute_result"'
    }
   ],
'   "source"':' ['
    "elems=examplesoup.select('#author')\n",
    "elems[0].getText()"
   ]
  },
  {
'   "cell_type"':' "code",'
'   "execution_count"':' null,'
'   "metadata"':' {},'
'   "outputs"':' [],'
'   "source"':' []'
  }
 ],
' "metadata"':' {'
'  "kernelspec"':' {'
'   "display_name"':' "Python 3",'
'   "language"':' "python",'
'   "name"':' "python3"'
  },
'  "language_info"':' {'
'   "codemirror_mode"':' {'
'    "name"':' "ipython",'
'    "version"':' 3'
   },
'   "file_extension"':' ".py",'
'   "mimetype"':' "text/x-python",'
'   "name"':' "python",'
'   "nbconvert_exporter"':' "python",'
'   "pygments_lexer"':' "ipython3",'
'   "version"':' "3.8.3"'
  }
 },
' "nbformat"':' 4,'
' "nbformat_minor"':' 4'
}
